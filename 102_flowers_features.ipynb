{
 "cells": [
  {
   "cell_type": "markdown",
   "id": "be45ee30",
   "metadata": {},
   "source": [
    "# 102 flowers features"
   ]
  },
  {
   "cell_type": "markdown",
   "id": "6d330995",
   "metadata": {},
   "source": [
    "Le but est d'utiliser un modèle préentrainé afin d'extraire les features (qui contiennent plus d'informations que les prédictions finales) du dataset 102flowers et d'entrainer ces derniers."
   ]
  },
  {
   "cell_type": "markdown",
   "id": "696fcc25",
   "metadata": {},
   "source": [
    "### Import modules"
   ]
  },
  {
   "cell_type": "code",
   "execution_count": 6,
   "id": "cf4f046e",
   "metadata": {},
   "outputs": [
    {
     "ename": "ModuleNotFoundError",
     "evalue": "No module named 'torch'",
     "output_type": "error",
     "traceback": [
      "\u001b[1;31m---------------------------------------------------------------------------\u001b[0m",
      "\u001b[1;31mModuleNotFoundError\u001b[0m                       Traceback (most recent call last)",
      "Input \u001b[1;32mIn [6]\u001b[0m, in \u001b[0;36m<cell line: 1>\u001b[1;34m()\u001b[0m\n\u001b[1;32m----> 1\u001b[0m \u001b[38;5;28;01mimport\u001b[39;00m \u001b[38;5;21;01mtorch\u001b[39;00m\n\u001b[0;32m      2\u001b[0m \u001b[38;5;28;01mimport\u001b[39;00m \u001b[38;5;21;01mtorchvision\u001b[39;00m\n\u001b[0;32m      3\u001b[0m \u001b[38;5;28;01mfrom\u001b[39;00m \u001b[38;5;21;01mtorch\u001b[39;00m\u001b[38;5;21;01m.\u001b[39;00m\u001b[38;5;21;01mutils\u001b[39;00m\u001b[38;5;21;01m.\u001b[39;00m\u001b[38;5;21;01mdata\u001b[39;00m \u001b[38;5;28;01mimport\u001b[39;00m Dataset\n",
      "\u001b[1;31mModuleNotFoundError\u001b[0m: No module named 'torch'"
     ]
    }
   ],
   "source": [
    "import torch\n",
    "import torchvision\n",
    "from torch.utils.data import Dataset\n",
    "from PIL import Image\n",
    "from sklearn.manifold import TSNE\n",
    "import torch.nn as nn\n",
    "import torch.optim as optim\n",
    "from torch.optim import lr_scheduler\n",
    "import torch.backends.cudnn as cudnn\n",
    "import numpy as np\n",
    "from torchvision import datasets, models, transforms\n",
    "import matplotlib.pyplot as plt\n",
    "import time\n",
    "import os\n",
    "import copy"
   ]
  },
  {
   "cell_type": "markdown",
   "id": "bfa7ecc0",
   "metadata": {},
   "source": [
    "### Load Data"
   ]
  },
  {
   "cell_type": "code",
   "execution_count": 4,
   "id": "afb97b62",
   "metadata": {},
   "outputs": [
    {
     "ename": "NameError",
     "evalue": "name 'transforms' is not defined",
     "output_type": "error",
     "traceback": [
      "\u001b[1;31m---------------------------------------------------------------------------\u001b[0m",
      "\u001b[1;31mNameError\u001b[0m                                 Traceback (most recent call last)",
      "Input \u001b[1;32mIn [4]\u001b[0m, in \u001b[0;36m<cell line: 2>\u001b[1;34m()\u001b[0m\n\u001b[0;32m      1\u001b[0m data_transforms \u001b[38;5;241m=\u001b[39m {\n\u001b[1;32m----> 2\u001b[0m     \u001b[38;5;124m'\u001b[39m\u001b[38;5;124mtrain\u001b[39m\u001b[38;5;124m'\u001b[39m: \u001b[43mtransforms\u001b[49m\u001b[38;5;241m.\u001b[39mCompose([\n\u001b[0;32m      3\u001b[0m         transforms\u001b[38;5;241m.\u001b[39mRandomResizedCrop(\u001b[38;5;241m224\u001b[39m),\n\u001b[0;32m      4\u001b[0m         transforms\u001b[38;5;241m.\u001b[39mRandomHorizontalFlip(),\n\u001b[0;32m      5\u001b[0m         transforms\u001b[38;5;241m.\u001b[39mToTensor(),\n\u001b[0;32m      6\u001b[0m         transforms\u001b[38;5;241m.\u001b[39mNormalize([\u001b[38;5;241m0.485\u001b[39m, \u001b[38;5;241m0.456\u001b[39m, \u001b[38;5;241m0.406\u001b[39m], [\u001b[38;5;241m0.229\u001b[39m, \u001b[38;5;241m0.224\u001b[39m, \u001b[38;5;241m0.225\u001b[39m])\n\u001b[0;32m      7\u001b[0m     ]),\n\u001b[0;32m      8\u001b[0m     \u001b[38;5;124m'\u001b[39m\u001b[38;5;124mvalid\u001b[39m\u001b[38;5;124m'\u001b[39m: transforms\u001b[38;5;241m.\u001b[39mCompose([\n\u001b[0;32m      9\u001b[0m         transforms\u001b[38;5;241m.\u001b[39mResize(\u001b[38;5;241m256\u001b[39m),\n\u001b[0;32m     10\u001b[0m         transforms\u001b[38;5;241m.\u001b[39mCenterCrop(\u001b[38;5;241m224\u001b[39m),\n\u001b[0;32m     11\u001b[0m         transforms\u001b[38;5;241m.\u001b[39mToTensor(),\n\u001b[0;32m     12\u001b[0m         transforms\u001b[38;5;241m.\u001b[39mNormalize([\u001b[38;5;241m0.485\u001b[39m, \u001b[38;5;241m0.456\u001b[39m, \u001b[38;5;241m0.406\u001b[39m], [\u001b[38;5;241m0.229\u001b[39m, \u001b[38;5;241m0.224\u001b[39m, \u001b[38;5;241m0.225\u001b[39m])\n\u001b[0;32m     13\u001b[0m     ])\n\u001b[0;32m     14\u001b[0m }\n\u001b[0;32m     16\u001b[0m data_dir \u001b[38;5;241m=\u001b[39m \u001b[38;5;124m'\u001b[39m\u001b[38;5;124mdata\u001b[39m\u001b[38;5;124m'\u001b[39m\n\u001b[0;32m     17\u001b[0m image_datasets\u001b[38;5;241m=\u001b[39m {x: datasets\u001b[38;5;241m.\u001b[39mImageFolder(os\u001b[38;5;241m.\u001b[39mpath\u001b[38;5;241m.\u001b[39mjoin(data_dir, x),\n\u001b[0;32m     18\u001b[0m                                           data_transforms[x])\n\u001b[0;32m     19\u001b[0m                   \u001b[38;5;28;01mfor\u001b[39;00m x \u001b[38;5;129;01min\u001b[39;00m [\u001b[38;5;124m'\u001b[39m\u001b[38;5;124mtrain\u001b[39m\u001b[38;5;124m'\u001b[39m, \u001b[38;5;124m'\u001b[39m\u001b[38;5;124mvalid\u001b[39m\u001b[38;5;124m'\u001b[39m]}\n",
      "\u001b[1;31mNameError\u001b[0m: name 'transforms' is not defined"
     ]
    }
   ],
   "source": [
    "data_transforms = {\n",
    "    'train': transforms.Compose([\n",
    "        transforms.RandomResizedCrop(224),\n",
    "        transforms.RandomHorizontalFlip(),\n",
    "        transforms.ToTensor(),\n",
    "        transforms.Normalize([0.485, 0.456, 0.406], [0.229, 0.224, 0.225])\n",
    "    ]),\n",
    "    'valid': transforms.Compose([\n",
    "        transforms.Resize(256),\n",
    "        transforms.CenterCrop(224),\n",
    "        transforms.ToTensor(),\n",
    "        transforms.Normalize([0.485, 0.456, 0.406], [0.229, 0.224, 0.225])\n",
    "    ])\n",
    "}\n",
    "\n",
    "data_dir = 'data'\n",
    "image_datasets= {x: datasets.ImageFolder(os.path.join(data_dir, x),\n",
    "                                          data_transforms[x])\n",
    "                  for x in ['train', 'valid']}\n",
    "dataset_sizes = {x: len(image_datasets[x]) for x in ['train', 'valid']}\n"
   ]
  },
  {
   "cell_type": "markdown",
   "id": "9bc00e5b",
   "metadata": {},
   "source": [
    "### Création du dataloaders (images)"
   ]
  },
  {
   "cell_type": "code",
   "execution_count": 5,
   "id": "87a795f5",
   "metadata": {},
   "outputs": [
    {
     "ename": "NameError",
     "evalue": "name 'torch' is not defined",
     "output_type": "error",
     "traceback": [
      "\u001b[1;31m---------------------------------------------------------------------------\u001b[0m",
      "\u001b[1;31mNameError\u001b[0m                                 Traceback (most recent call last)",
      "Input \u001b[1;32mIn [5]\u001b[0m, in \u001b[0;36m<cell line: 1>\u001b[1;34m()\u001b[0m\n\u001b[1;32m----> 1\u001b[0m dataloaders \u001b[38;5;241m=\u001b[39m {x: torch\u001b[38;5;241m.\u001b[39mutils\u001b[38;5;241m.\u001b[39mdata\u001b[38;5;241m.\u001b[39mDataLoader(image_datasets[x], batch_size\u001b[38;5;241m=\u001b[39m\u001b[38;5;241m4\u001b[39m,\n\u001b[0;32m      2\u001b[0m                                              shuffle\u001b[38;5;241m=\u001b[39m\u001b[38;5;28;01mFalse\u001b[39;00m, num_workers\u001b[38;5;241m=\u001b[39m\u001b[38;5;241m4\u001b[39m)\n\u001b[0;32m      3\u001b[0m               \u001b[38;5;28;01mfor\u001b[39;00m x \u001b[38;5;129;01min\u001b[39;00m [\u001b[38;5;124m'\u001b[39m\u001b[38;5;124mtrain\u001b[39m\u001b[38;5;124m'\u001b[39m, \u001b[38;5;124m'\u001b[39m\u001b[38;5;124mvalid\u001b[39m\u001b[38;5;124m'\u001b[39m]}\n\u001b[0;32m      4\u001b[0m class_names \u001b[38;5;241m=\u001b[39m image_datasets[\u001b[38;5;124m'\u001b[39m\u001b[38;5;124mtrain\u001b[39m\u001b[38;5;124m'\u001b[39m]\u001b[38;5;241m.\u001b[39mclasses\n\u001b[0;32m      5\u001b[0m device \u001b[38;5;241m=\u001b[39m torch\u001b[38;5;241m.\u001b[39mdevice(\u001b[38;5;124m\"\u001b[39m\u001b[38;5;124mcuda:0\u001b[39m\u001b[38;5;124m\"\u001b[39m \u001b[38;5;28;01mif\u001b[39;00m torch\u001b[38;5;241m.\u001b[39mcuda\u001b[38;5;241m.\u001b[39mis_available() \u001b[38;5;28;01melse\u001b[39;00m \u001b[38;5;124m\"\u001b[39m\u001b[38;5;124mcpu\u001b[39m\u001b[38;5;124m\"\u001b[39m)\n",
      "Input \u001b[1;32mIn [5]\u001b[0m, in \u001b[0;36m<dictcomp>\u001b[1;34m(.0)\u001b[0m\n\u001b[1;32m----> 1\u001b[0m dataloaders \u001b[38;5;241m=\u001b[39m {x: \u001b[43mtorch\u001b[49m\u001b[38;5;241m.\u001b[39mutils\u001b[38;5;241m.\u001b[39mdata\u001b[38;5;241m.\u001b[39mDataLoader(image_datasets[x], batch_size\u001b[38;5;241m=\u001b[39m\u001b[38;5;241m4\u001b[39m,\n\u001b[0;32m      2\u001b[0m                                              shuffle\u001b[38;5;241m=\u001b[39m\u001b[38;5;28;01mFalse\u001b[39;00m, num_workers\u001b[38;5;241m=\u001b[39m\u001b[38;5;241m4\u001b[39m)\n\u001b[0;32m      3\u001b[0m               \u001b[38;5;28;01mfor\u001b[39;00m x \u001b[38;5;129;01min\u001b[39;00m [\u001b[38;5;124m'\u001b[39m\u001b[38;5;124mtrain\u001b[39m\u001b[38;5;124m'\u001b[39m, \u001b[38;5;124m'\u001b[39m\u001b[38;5;124mvalid\u001b[39m\u001b[38;5;124m'\u001b[39m]}\n\u001b[0;32m      4\u001b[0m class_names \u001b[38;5;241m=\u001b[39m image_datasets[\u001b[38;5;124m'\u001b[39m\u001b[38;5;124mtrain\u001b[39m\u001b[38;5;124m'\u001b[39m]\u001b[38;5;241m.\u001b[39mclasses\n\u001b[0;32m      5\u001b[0m device \u001b[38;5;241m=\u001b[39m torch\u001b[38;5;241m.\u001b[39mdevice(\u001b[38;5;124m\"\u001b[39m\u001b[38;5;124mcuda:0\u001b[39m\u001b[38;5;124m\"\u001b[39m \u001b[38;5;28;01mif\u001b[39;00m torch\u001b[38;5;241m.\u001b[39mcuda\u001b[38;5;241m.\u001b[39mis_available() \u001b[38;5;28;01melse\u001b[39;00m \u001b[38;5;124m\"\u001b[39m\u001b[38;5;124mcpu\u001b[39m\u001b[38;5;124m\"\u001b[39m)\n",
      "\u001b[1;31mNameError\u001b[0m: name 'torch' is not defined"
     ]
    }
   ],
   "source": [
    "dataloaders = {x: torch.utils.data.DataLoader(image_datasets[x], batch_size=4,\n",
    "                                             shuffle=False, num_workers=4)\n",
    "              for x in ['train', 'valid']}\n",
    "class_names = image_datasets['train'].classes\n",
    "device = torch.device(\"cuda:0\" if torch.cuda.is_available() else \"cpu\")\n",
    "print(dataloaders)"
   ]
  },
  {
   "cell_type": "markdown",
   "id": "ba6f74e5",
   "metadata": {},
   "source": [
    "### Features Extractor"
   ]
  },
  {
   "cell_type": "code",
   "execution_count": 4,
   "id": "f5ad57da",
   "metadata": {},
   "outputs": [
    {
     "name": "stderr",
     "output_type": "stream",
     "text": [
      "C:\\Users\\Bacquié\\AppData\\Roaming\\Python\\Python39\\site-packages\\torchvision\\models\\_utils.py:208: UserWarning: The parameter 'pretrained' is deprecated since 0.13 and will be removed in 0.15, please use 'weights' instead.\n",
      "  warnings.warn(\n",
      "C:\\Users\\Bacquié\\AppData\\Roaming\\Python\\Python39\\site-packages\\torchvision\\models\\_utils.py:223: UserWarning: Arguments other than a weight enum or `None` for 'weights' are deprecated since 0.13 and will be removed in 0.15. The current behavior is equivalent to passing `weights=ResNet18_Weights.IMAGENET1K_V1`. You can also use `weights=ResNet18_Weights.DEFAULT` to get the most up-to-date weights.\n",
      "  warnings.warn(msg)\n"
     ]
    }
   ],
   "source": [
    "model_conv = torchvision.models.resnet18(pretrained=True)\n",
    "for param in model_conv.parameters():\n",
    "    param.requires_grad = False\n",
    "\n",
    "# Parameters of newly constructed modules have requires_grad=True by default\n",
    "num_ftrs = model_conv.fc.in_features\n",
    "model_conv.fc = nn.Identity(num_ftrs, 2)\n",
    "model_conv = model_conv.to(device)"
   ]
  },
  {
   "cell_type": "markdown",
   "id": "6a1e838f",
   "metadata": {},
   "source": [
    "### Visualizing the model predictions"
   ]
  },
  {
   "cell_type": "code",
   "execution_count": 2,
   "id": "c400711a",
   "metadata": {},
   "outputs": [
    {
     "ename": "NameError",
     "evalue": "name 'model_conv' is not defined",
     "output_type": "error",
     "traceback": [
      "\u001b[1;31m---------------------------------------------------------------------------\u001b[0m",
      "\u001b[1;31mNameError\u001b[0m                                 Traceback (most recent call last)",
      "Input \u001b[1;32mIn [2]\u001b[0m, in \u001b[0;36m<cell line: 11>\u001b[1;34m()\u001b[0m\n\u001b[0;32m      9\u001b[0m             L_features\u001b[38;5;241m.\u001b[39mappend(outputs)\n\u001b[0;32m     10\u001b[0m     \u001b[38;5;28;01mreturn\u001b[39;00m L_features\n\u001b[1;32m---> 11\u001b[0m L_features_train\u001b[38;5;241m=\u001b[39mvisualize_model(\u001b[43mmodel_conv\u001b[49m,dataloaders[\u001b[38;5;124m'\u001b[39m\u001b[38;5;124mtrain\u001b[39m\u001b[38;5;124m'\u001b[39m])\n\u001b[0;32m     12\u001b[0m L_features_val\u001b[38;5;241m=\u001b[39mvisualize_model(model_conv,dataloaders[\u001b[38;5;124m'\u001b[39m\u001b[38;5;124mvalid\u001b[39m\u001b[38;5;124m'\u001b[39m])\n",
      "\u001b[1;31mNameError\u001b[0m: name 'model_conv' is not defined"
     ]
    }
   ],
   "source": [
    "def visualize_model(model,dataloader):\n",
    "    L_features=[]\n",
    "    model.eval()\n",
    "    with torch.no_grad():\n",
    "        for i, (inputs,labels) in enumerate(dataloader):\n",
    "            inputs = inputs.to(device)\n",
    "            labels = labels.to(device)\n",
    "            outputs = model(inputs)\n",
    "            L_features.append(outputs)\n",
    "    return L_features\n",
    "L_features_train=visualize_model(model_conv,dataloaders['train'])\n",
    "L_features_val=visualize_model(model_conv,dataloaders['valid'])"
   ]
  },
  {
   "cell_type": "markdown",
   "id": "a25a03de",
   "metadata": {},
   "source": [
    "### Creation des vecteurs features"
   ]
  },
  {
   "cell_type": "code",
   "execution_count": 17,
   "id": "0e2561ab",
   "metadata": {},
   "outputs": [
    {
     "data": {
      "text/plain": [
       "torch.Size([4, 512])"
      ]
     },
     "execution_count": 17,
     "metadata": {},
     "output_type": "execute_result"
    }
   ],
   "source": [
    "L_features_train[0].shape # 4images par 4 images, 512 features"
   ]
  },
  {
   "cell_type": "code",
   "execution_count": 18,
   "id": "01504cc1",
   "metadata": {},
   "outputs": [
    {
     "data": {
      "text/plain": [
       "torch.Size([4, 512])"
      ]
     },
     "execution_count": 18,
     "metadata": {},
     "output_type": "execute_result"
    }
   ],
   "source": [
    "L_features_val[0].shape  # 4images par 4 images, 512 features"
   ]
  },
  {
   "cell_type": "code",
   "execution_count": 19,
   "id": "a7ba1fdc",
   "metadata": {},
   "outputs": [
    {
     "data": {
      "text/plain": [
       "torch.Size([6552, 512])"
      ]
     },
     "execution_count": 19,
     "metadata": {},
     "output_type": "execute_result"
    }
   ],
   "source": [
    "features_val=torch.vstack(L_features_val)\n",
    "features_train=torch.vstack(L_features_train)\n",
    "torch.vstack(L_features_train).shape #6552 features"
   ]
  },
  {
   "cell_type": "code",
   "execution_count": 9,
   "id": "bff4337f",
   "metadata": {},
   "outputs": [
    {
     "data": {
      "text/plain": [
       "torch.Size([818, 512])"
      ]
     },
     "execution_count": 9,
     "metadata": {},
     "output_type": "execute_result"
    }
   ],
   "source": [
    "torch.vstack(L_features_val).shape #818 features"
   ]
  },
  {
   "cell_type": "markdown",
   "id": "496c8c11",
   "metadata": {},
   "source": [
    "### Targets"
   ]
  },
  {
   "cell_type": "code",
   "execution_count": 1,
   "id": "693693df",
   "metadata": {},
   "outputs": [
    {
     "ename": "NameError",
     "evalue": "name 'dataloaders' is not defined",
     "output_type": "error",
     "traceback": [
      "\u001b[1;31m---------------------------------------------------------------------------\u001b[0m",
      "\u001b[1;31mNameError\u001b[0m                                 Traceback (most recent call last)",
      "Input \u001b[1;32mIn [1]\u001b[0m, in \u001b[0;36m<cell line: 10>\u001b[1;34m()\u001b[0m\n\u001b[0;32m      8\u001b[0m                 target\u001b[38;5;241m.\u001b[39mappend(i)\n\u001b[0;32m      9\u001b[0m     \u001b[38;5;28;01mreturn\u001b[39;00m target\n\u001b[1;32m---> 10\u001b[0m target_train\u001b[38;5;241m=\u001b[39mget_targets(\u001b[43mdataloaders\u001b[49m[\u001b[38;5;124m'\u001b[39m\u001b[38;5;124mtrain\u001b[39m\u001b[38;5;124m'\u001b[39m])\n\u001b[0;32m     11\u001b[0m target_val\u001b[38;5;241m=\u001b[39mget_targets(dataloaders[\u001b[38;5;124m'\u001b[39m\u001b[38;5;124mvalid\u001b[39m\u001b[38;5;124m'\u001b[39m])\n",
      "\u001b[1;31mNameError\u001b[0m: name 'dataloaders' is not defined"
     ]
    }
   ],
   "source": [
    "def get_targets(dataloader):\n",
    "    target=[]\n",
    "    for i, (inputs, labels) in enumerate(dataloader):\n",
    "            inputs = inputs.to(device)\n",
    "            labels = labels.to(device)\n",
    "            labels=labels.tolist()\n",
    "            for i in labels:\n",
    "                target.append(i)\n",
    "    return target\n",
    "target_train=get_targets(dataloaders['train'])\n",
    "target_val=get_targets(dataloaders['valid'])"
   ]
  },
  {
   "cell_type": "code",
   "execution_count": 11,
   "id": "045f57e1",
   "metadata": {},
   "outputs": [
    {
     "data": {
      "text/plain": [
       "6552"
      ]
     },
     "execution_count": 11,
     "metadata": {},
     "output_type": "execute_result"
    }
   ],
   "source": [
    "len(target_train) #6552 targets: ok"
   ]
  },
  {
   "cell_type": "code",
   "execution_count": 12,
   "id": "bd09904f",
   "metadata": {},
   "outputs": [
    {
     "data": {
      "text/plain": [
       "818"
      ]
     },
     "execution_count": 12,
     "metadata": {},
     "output_type": "execute_result"
    }
   ],
   "source": [
    "len(target_val) #818 targets: ok"
   ]
  },
  {
   "cell_type": "markdown",
   "id": "34212692",
   "metadata": {},
   "source": [
    "### Creation des dataloaders (features)"
   ]
  },
  {
   "cell_type": "code",
   "execution_count": 13,
   "id": "22091ce6",
   "metadata": {},
   "outputs": [
    {
     "data": {
      "text/plain": [
       "[tensor([[0.9124, 0.8139, 1.1766,  ..., 0.4598, 0.5962, 1.4540],\n",
       "         [0.1968, 0.3435, 0.2905,  ..., 0.1029, 0.2143, 2.4981],\n",
       "         [0.1545, 0.1060, 0.1457,  ..., 0.5070, 2.4660, 0.3419],\n",
       "         [0.2493, 0.0217, 1.0103,  ..., 0.1774, 0.6930, 0.7358]]),\n",
       " tensor([85, 30, 43, 51])]"
      ]
     },
     "execution_count": 13,
     "metadata": {},
     "output_type": "execute_result"
    }
   ],
   "source": [
    "class FeaturesDataset(torch.utils.data.Dataset):\n",
    "    def __init__(self,features,targets):\n",
    "        self.features=features\n",
    "        self.targets=targets\n",
    "    def __len__(self):\n",
    "        return len(self.features)\n",
    "    def __getitem__(self,i):\n",
    "        return self.features[i],self.targets[i]\n",
    "\n",
    "    \n",
    "x1= FeaturesDataset(features_train,torch.tensor(target_train))\n",
    "x2= FeaturesDataset(features_val,torch.tensor(target_val))\n",
    "dataset_features={'train': x1 ,'valid': x2 }\n",
    "dataset_sizes = {x: len(dataset_features[x]) for x in ['train', 'valid']}\n",
    "dataloaders_features={'train': torch.utils.data.DataLoader(x1, batch_size=4, shuffle=True, num_workers=0),\n",
    "            'valid': torch.utils.data.DataLoader(x2, batch_size=4, shuffle=False, num_workers=0)}\n",
    "next(iter(dataloaders_features['train']))"
   ]
  },
  {
   "cell_type": "markdown",
   "id": "716917fe",
   "metadata": {},
   "source": [
    "### Fonction d'entrainement"
   ]
  },
  {
   "cell_type": "code",
   "execution_count": 14,
   "id": "ddcf09a6",
   "metadata": {},
   "outputs": [
    {
     "name": "stdout",
     "output_type": "stream",
     "text": [
      "Epoch 0/24\n",
      "----------\n",
      "train Loss: 2.5005 Acc: 0.4605\n",
      "valid Loss: 1.3140 Acc: 0.7262\n",
      "\n",
      "Epoch 1/24\n",
      "----------\n",
      "train Loss: 1.0757 Acc: 0.7842\n",
      "valid Loss: 0.8083 Acc: 0.8386\n",
      "\n",
      "Epoch 2/24\n",
      "----------\n",
      "train Loss: 0.7470 Acc: 0.8539\n",
      "valid Loss: 0.6416 Acc: 0.8692\n",
      "\n",
      "Epoch 3/24\n",
      "----------\n",
      "train Loss: 0.5871 Acc: 0.8871\n",
      "valid Loss: 0.5327 Acc: 0.8851\n",
      "\n",
      "Epoch 4/24\n",
      "----------\n",
      "train Loss: 0.4875 Acc: 0.9083\n",
      "valid Loss: 0.4680 Acc: 0.9010\n",
      "\n",
      "Epoch 5/24\n",
      "----------\n",
      "train Loss: 0.4187 Acc: 0.9264\n",
      "valid Loss: 0.4214 Acc: 0.9059\n",
      "\n",
      "Epoch 6/24\n",
      "----------\n",
      "train Loss: 0.3690 Acc: 0.9364\n",
      "valid Loss: 0.4080 Acc: 0.9095\n",
      "\n",
      "Epoch 7/24\n",
      "----------\n",
      "train Loss: 0.3000 Acc: 0.9605\n",
      "valid Loss: 0.3752 Acc: 0.9230\n",
      "\n",
      "Epoch 8/24\n",
      "----------\n",
      "train Loss: 0.2920 Acc: 0.9640\n",
      "valid Loss: 0.3723 Acc: 0.9242\n",
      "\n",
      "Epoch 9/24\n",
      "----------\n",
      "train Loss: 0.2884 Acc: 0.9638\n",
      "valid Loss: 0.3729 Acc: 0.9267\n",
      "\n",
      "Epoch 10/24\n",
      "----------\n",
      "train Loss: 0.2858 Acc: 0.9657\n",
      "valid Loss: 0.3721 Acc: 0.9254\n",
      "\n",
      "Epoch 11/24\n",
      "----------\n",
      "train Loss: 0.2829 Acc: 0.9664\n",
      "valid Loss: 0.3682 Acc: 0.9303\n",
      "\n",
      "Epoch 12/24\n",
      "----------\n",
      "train Loss: 0.2799 Acc: 0.9670\n",
      "valid Loss: 0.3669 Acc: 0.9230\n",
      "\n",
      "Epoch 13/24\n",
      "----------\n",
      "train Loss: 0.2773 Acc: 0.9670\n",
      "valid Loss: 0.3651 Acc: 0.9267\n",
      "\n",
      "Epoch 14/24\n",
      "----------\n",
      "train Loss: 0.2714 Acc: 0.9690\n",
      "valid Loss: 0.3643 Acc: 0.9254\n",
      "\n",
      "Epoch 15/24\n",
      "----------\n",
      "train Loss: 0.2708 Acc: 0.9701\n",
      "valid Loss: 0.3639 Acc: 0.9254\n",
      "\n",
      "Epoch 16/24\n",
      "----------\n",
      "train Loss: 0.2704 Acc: 0.9701\n",
      "valid Loss: 0.3636 Acc: 0.9279\n",
      "\n",
      "Epoch 17/24\n",
      "----------\n",
      "train Loss: 0.2701 Acc: 0.9699\n",
      "valid Loss: 0.3634 Acc: 0.9279\n",
      "\n",
      "Epoch 18/24\n",
      "----------\n",
      "train Loss: 0.2698 Acc: 0.9699\n",
      "valid Loss: 0.3632 Acc: 0.9279\n",
      "\n",
      "Epoch 19/24\n",
      "----------\n",
      "train Loss: 0.2695 Acc: 0.9708\n",
      "valid Loss: 0.3630 Acc: 0.9279\n",
      "\n",
      "Epoch 20/24\n",
      "----------\n",
      "train Loss: 0.2692 Acc: 0.9704\n",
      "valid Loss: 0.3628 Acc: 0.9291\n",
      "\n",
      "Epoch 21/24\n",
      "----------\n",
      "train Loss: 0.2685 Acc: 0.9704\n",
      "valid Loss: 0.3628 Acc: 0.9291\n",
      "\n",
      "Epoch 22/24\n",
      "----------\n",
      "train Loss: 0.2685 Acc: 0.9704\n",
      "valid Loss: 0.3628 Acc: 0.9291\n",
      "\n",
      "Epoch 23/24\n",
      "----------\n",
      "train Loss: 0.2684 Acc: 0.9702\n",
      "valid Loss: 0.3628 Acc: 0.9291\n",
      "\n",
      "Epoch 24/24\n",
      "----------\n",
      "train Loss: 0.2684 Acc: 0.9702\n",
      "valid Loss: 0.3628 Acc: 0.9291\n",
      "\n",
      "Training complete in 0m 21s\n",
      "Best val Acc: 0.930318\n",
      "Linear(in_features=512, out_features=102, bias=True)\n"
     ]
    }
   ],
   "source": [
    "num_ftrs=512\n",
    "model = nn.Linear(num_ftrs, 102)\n",
    "criterion = nn.CrossEntropyLoss()\n",
    "\n",
    "# Observe that only parameters of final layer are being optimized as\n",
    "# opposed to before.\n",
    "optimizer = optim.SGD(model.parameters(), lr=0.001, momentum=0.9)\n",
    "\n",
    "# Decay LR by a factor of 0.1 every 7 epochs\n",
    "exp_lr_scheduler = lr_scheduler.StepLR(optimizer, step_size=7, gamma=0.1)\n",
    "\n",
    "def train_model(model, criterion, optimizer, scheduler, dataloaders, num_epochs=25):\n",
    "    since = time.time()\n",
    "\n",
    "    best_model_wts = copy.deepcopy(model.state_dict())\n",
    "    best_acc = 0.0\n",
    "\n",
    "    for epoch in range(num_epochs):\n",
    "        print(f'Epoch {epoch}/{num_epochs - 1}')\n",
    "        print('-' * 10)\n",
    "\n",
    "        # Each epoch has a training and validation phase\n",
    "        for phase in ['train', 'valid']:\n",
    "            if phase == 'train':\n",
    "                model.train()  # Set model to training mode\n",
    "            else:\n",
    "                model.eval()   # Set model to evaluate mode\n",
    "\n",
    "            running_loss = 0.0\n",
    "            running_corrects = 0\n",
    "\n",
    "            # Iterate over data.\n",
    "            for inputs, labels in dataloaders[phase]:\n",
    "                inputs = inputs.to(device)\n",
    "                labels = labels.to(device)\n",
    "\n",
    "                # zero the parameter gradients\n",
    "                optimizer.zero_grad()\n",
    "\n",
    "                # forward\n",
    "                # track history if only in train\n",
    "                with torch.set_grad_enabled(phase == 'train'):\n",
    "                    outputs = model(inputs)\n",
    "                    _, preds = torch.max(outputs, 1)\n",
    "                    loss = criterion(outputs, labels)\n",
    "\n",
    "                    # backward + optimize only if in training phase\n",
    "                    if phase == 'train':\n",
    "                        loss.backward()\n",
    "                        optimizer.step()\n",
    "\n",
    "                # statistics\n",
    "                running_loss += loss.item() * inputs.size(0)\n",
    "                running_corrects += torch.sum(preds == labels.data)\n",
    "            if phase == 'train':\n",
    "                scheduler.step()\n",
    "\n",
    "            epoch_loss = running_loss / dataset_sizes[phase]\n",
    "            epoch_acc = running_corrects.double() / dataset_sizes[phase]\n",
    "\n",
    "            print(f'{phase} Loss: {epoch_loss:.4f} Acc: {epoch_acc:.4f}')\n",
    "\n",
    "            # deep copy the model\n",
    "            if phase == 'valid' and epoch_acc > best_acc:\n",
    "                best_acc = epoch_acc\n",
    "                best_model_wts = copy.deepcopy(model.state_dict())\n",
    "\n",
    "        print()\n",
    "\n",
    "    time_elapsed = time.time() - since\n",
    "    print(f'Training complete in {time_elapsed // 60:.0f}m {time_elapsed % 60:.0f}s')\n",
    "    print(f'Best val Acc: {best_acc:4f}')\n",
    "\n",
    "    # load best model weights\n",
    "    model.load_state_dict(best_model_wts)\n",
    "    return model\n",
    "print(train_model(model, criterion, optimizer, exp_lr_scheduler, dataloaders_features, num_epochs=25))\n"
   ]
  }
 ],
 "metadata": {
  "kernelspec": {
   "display_name": "Python 3 (ipykernel)",
   "language": "python",
   "name": "python3"
  },
  "language_info": {
   "codemirror_mode": {
    "name": "ipython",
    "version": 3
   },
   "file_extension": ".py",
   "mimetype": "text/x-python",
   "name": "python",
   "nbconvert_exporter": "python",
   "pygments_lexer": "ipython3",
   "version": "3.9.12"
  }
 },
 "nbformat": 4,
 "nbformat_minor": 5
}
